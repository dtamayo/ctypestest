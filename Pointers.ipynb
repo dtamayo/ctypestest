{
 "cells": [
  {
   "cell_type": "code",
   "execution_count": 3,
   "metadata": {},
   "outputs": [],
   "source": [
    "from ctypes import cdll, Structure, c_int, c_void_p, byref, POINTER\n",
    "clibptr = cdll.LoadLibrary(\"libpointers.so\")\n",
    "\n",
    "class Effect(Structure):\n",
    "    _fields_ = [(\"i\", c_int),\n",
    "                (\"_ptr\", c_void_p)]\n",
    "    @property\n",
    "    def ptr(self):\n",
    "        offset = type(self)._ptr.offset\n",
    "        return (c_void_p).from_buffer(self, offset)"
   ]
  },
  {
   "cell_type": "code",
   "execution_count": 4,
   "metadata": {},
   "outputs": [
    {
     "data": {
      "text/plain": [
       "41"
      ]
     },
     "execution_count": 4,
     "metadata": {},
     "output_type": "execute_result"
    }
   ],
   "source": [
    "clibptr.get_effect.restype = POINTER(Effect)\n",
    "effect = clibptr.get_effect().contents\n",
    "clibptr.print_ptraddress(byref(effect.ptr))"
   ]
  },
  {
   "cell_type": "code",
   "execution_count": null,
   "metadata": {},
   "outputs": [],
   "source": []
  }
 ],
 "metadata": {
  "kernelspec": {
   "display_name": "Python 3",
   "language": "python",
   "name": "python3"
  },
  "language_info": {
   "codemirror_mode": {
    "name": "ipython",
    "version": 3
   },
   "file_extension": ".py",
   "mimetype": "text/x-python",
   "name": "python",
   "nbconvert_exporter": "python",
   "pygments_lexer": "ipython3",
   "version": "3.7.1"
  }
 },
 "nbformat": 4,
 "nbformat_minor": 2
}
